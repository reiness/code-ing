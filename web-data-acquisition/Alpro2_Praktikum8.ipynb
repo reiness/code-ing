{
  "cells": [
    {
      "cell_type": "markdown",
      "metadata": {
        "id": "wC8Lqb9Z6x7c"
      },
      "source": [
        "# Algoritma Pemrograman II\n",
        "## Web Data Acquisition\n",
        "-------------------------\n",
        "Ridho Pandhu Afrianto\n",
        "\n",
        "162112133062\n"
      ]
    },
    {
      "cell_type": "markdown",
      "metadata": {
        "id": "_rPKCdk_7chk"
      },
      "source": [
        "# Nomor 1"
      ]
    },
    {
      "cell_type": "markdown",
      "metadata": {
        "id": "3ghp9hbx7aeJ"
      },
      "source": [
        "![image.png](data:image/png;base64,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)"
      ]
    },
    {
      "cell_type": "markdown",
      "metadata": {
        "id": "HdLkOzeJ729y"
      },
      "source": [
        "## Python Requests Method\n"
      ]
    },
    {
      "cell_type": "code",
      "execution_count": null,
      "metadata": {},
      "outputs": [],
      "source": [
        "%pip install requests\n",
        "import requests"
      ]
    },
    {
      "cell_type": "code",
      "execution_count": null,
      "metadata": {},
      "outputs": [],
      "source": [
        "url = 'https://unair.ac.id/news'\n",
        "response = requests.get(url)\n",
        "response.text"
      ]
    },
    {
      "cell_type": "markdown",
      "metadata": {
        "id": "42ubxMGs8eo-"
      },
      "source": [
        "## Beautiful Soup Method\n"
      ]
    },
    {
      "cell_type": "code",
      "execution_count": null,
      "metadata": {
        "id": "CkTUpCI-8AqQ"
      },
      "outputs": [],
      "source": [
        "%pip install bs4\n",
        "from bs4 import BeautifulSoup"
      ]
    },
    {
      "cell_type": "code",
      "execution_count": null,
      "metadata": {},
      "outputs": [],
      "source": [
        "data = response.text \n",
        "soup = BeautifulSoup(data, 'html.parser')\n",
        "soup"
      ]
    },
    {
      "cell_type": "markdown",
      "metadata": {
        "id": "dD2xBAFyD_xW"
      },
      "source": [
        "# Nomor 2"
      ]
    },
    {
      "cell_type": "markdown",
      "metadata": {
        "id": "AztKcNZpEU1A"
      },
      "source": [
        "![image.png](data:image/png;base64,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)"
      ]
    },
    {
      "cell_type": "code",
      "execution_count": null,
      "metadata": {
        "id": "e58GHG3zEATf"
      },
      "outputs": [],
      "source": [
        "from urllib.parse import urljoin\n",
        "\n",
        "for link in soup.find_all('a'):\n",
        "  raw = link.get(\"href\")\n",
        "  link = urljoin(url, raw)\n",
        "  print(link)"
      ]
    },
    {
      "cell_type": "markdown",
      "metadata": {
        "id": "Qm-eUzDFPfHV"
      },
      "source": [
        "# Nomor 3\n"
      ]
    },
    {
      "cell_type": "code",
      "execution_count": null,
      "metadata": {
        "id": "4a8Qt6PTQngK"
      },
      "outputs": [],
      "source": [
        "%pip install scrapy"
      ]
    },
    {
      "cell_type": "code",
      "execution_count": 7,
      "metadata": {
        "id": "pJt9FMxJOaQ7"
      },
      "outputs": [],
      "source": [
        "import scrapy\n",
        "\n",
        "class BasicftmmcatSpider(scrapy.Spider):\n",
        "  name = 'basicftmmcat'\n",
        "\n",
        "  start_urls = [\"https://store.playstation.com/en-id\"]\n",
        "\n",
        "  def parse(self, response):\n",
        "    for text in response.css('a'):\n",
        "      yield{\n",
        "          'title':text.css('a::text').get(),\n",
        "          'link':tex.css('a::attr(href)').get()\n",
        "      }\n",
        "\n",
        "    next_page_selector = '.page-numbers.current + a:attr(href)'\n",
        "    next_page = response.css(next_page_selector).extract_first()\n",
        "    if next_page:\n",
        "      yield scrapy.Request(\n",
        "          response.urljoin(nextpage),\n",
        "          callback=self.parse)\n"
      ]
    },
    {
      "cell_type": "code",
      "execution_count": 34,
      "metadata": {
        "id": "M5SdVewGQZRb"
      },
      "outputs": [],
      "source": []
    },
    {
      "cell_type": "code",
      "execution_count": null,
      "metadata": {
        "id": "2n8HlxZJSmUY"
      },
      "outputs": [],
      "source": []
    }
  ],
  "metadata": {
    "colab": {
      "collapsed_sections": [],
      "provenance": []
    },
    "kernelspec": {
      "display_name": "Python 3.9.13 64-bit (microsoft store)",
      "language": "python",
      "name": "python3"
    },
    "language_info": {
      "codemirror_mode": {
        "name": "ipython",
        "version": 3
      },
      "file_extension": ".py",
      "mimetype": "text/x-python",
      "name": "python",
      "nbconvert_exporter": "python",
      "pygments_lexer": "ipython3",
      "version": "3.9.13"
    },
    "vscode": {
      "interpreter": {
        "hash": "23b4a3e8622309bcc6db3d5cc6eb73d60ab98d9ec23bad6a26b709981ccb403a"
      }
    }
  },
  "nbformat": 4,
  "nbformat_minor": 0
}
